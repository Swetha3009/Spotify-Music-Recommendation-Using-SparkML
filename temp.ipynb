{
 "cells": [
  {
   "cell_type": "code",
   "execution_count": 1,
   "metadata": {},
   "outputs": [],
   "source": [
    "from pyspark.sql import SparkSession\n",
    "from pyspark.ml.feature import VectorAssembler, StringIndexer, OneHotEncoder\n",
    "from pyspark.ml.clustering import KMeans\n",
    "from pyspark.ml import Pipeline\n",
    "from pyspark.sql.functions import col, when\n",
    "from pyspark.ml.clustering import KMeansModel"
   ]
  },
  {
   "cell_type": "code",
   "execution_count": 2,
   "metadata": {},
   "outputs": [
    {
     "name": "stderr",
     "output_type": "stream",
     "text": [
      "Setting default log level to \"WARN\".\n",
      "To adjust logging level use sc.setLogLevel(newLevel). For SparkR, use setLogLevel(newLevel).\n",
      "24/12/08 13:53:35 WARN NativeCodeLoader: Unable to load native-hadoop library for your platform... using builtin-java classes where applicable\n"
     ]
    }
   ],
   "source": [
    "spark = SparkSession.builder.appName(\"SongRecommendationWithArtists\").config(\"spark.executor.memory\", \"4g\").config(\"spark.driver.memory\", \"4g\").config(\"spark.executor.cores\", \"2\").config(\"spark.driver.maxResultSize\", \"2g\").config(\"spark.sql.shuffle.partitions\", \"200\").getOrCreate()\n"
   ]
  },
  {
   "cell_type": "code",
   "execution_count": 3,
   "metadata": {},
   "outputs": [],
   "source": [
    "# Define paths for saving model and data\n",
    "model_path = \"./model/kmeans_model\"\n",
    "preprocessed_data_path = \"./model/preprocessed_data\"\n",
    "file_path = './tracks_features.csv'"
   ]
  },
  {
   "cell_type": "code",
   "execution_count": 4,
   "metadata": {},
   "outputs": [],
   "source": [
    "# Function to preprocess data\n",
    "def preprocess_data(file_path):\n",
    "    df = spark.read.csv(file_path, header=True, inferSchema=True)\n",
    "\n",
    "    # Attributes for recommendation\n",
    "    attributes = [\"danceability\", \"energy\", \"liveness\", \"valence\", \"tempo\"]\n",
    "\n",
    "    # Replace null values in all columns with 0\n",
    "    #df = df.select([when(col(c).isNull(), 0).otherwise(col(c)).alias(c) for c in df.columns])\n",
    "\n",
    "    # Replace nulls or non-numeric values and cast to double\n",
    "    for attr in attributes:\n",
    "        df = df.withColumn(attr, when(col(attr).isNull(), 0.0).otherwise(col(attr).cast(\"double\")))\n",
    "\n",
    "    df = df.fillna(0)\n",
    "\n",
    "    # Encode 'artists' using StringIndexer and OneHotEncoder\n",
    "    string_indexer = StringIndexer(inputCol=\"artists\", outputCol=\"artist_index\")\n",
    "    one_hot_encoder = OneHotEncoder(inputCol=\"artist_index\", outputCol=\"artist_vector\")\n",
    "\n",
    "    # Combine numerical attributes and the artist vector into a single feature vector\n",
    "    vector_assembler = VectorAssembler(inputCols=attributes + [\"artist_vector\"], outputCol=\"features\")\n",
    "\n",
    "    df = string_indexer.fit(df).transform(df)\n",
    "    df = one_hot_encoder.fit(df).transform(df)\n",
    "    df = vector_assembler.transform(df)\n",
    "\n",
    "\n",
    "    return df"
   ]
  },
  {
   "cell_type": "code",
   "execution_count": 5,
   "metadata": {},
   "outputs": [
    {
     "name": "stderr",
     "output_type": "stream",
     "text": [
      "                                                                                \r"
     ]
    }
   ],
   "source": [
    "# Load the trained model\n",
    "model = KMeansModel.load(model_path)"
   ]
  },
  {
   "cell_type": "code",
   "execution_count": 6,
   "metadata": {},
   "outputs": [
    {
     "name": "stderr",
     "output_type": "stream",
     "text": [
      "                                                                                \r"
     ]
    }
   ],
   "source": [
    "\n",
    "# Preprocess the raw data\n",
    "df = preprocess_data(file_path)"
   ]
  },
  {
   "cell_type": "code",
   "execution_count": 7,
   "metadata": {},
   "outputs": [],
   "source": [
    "df = model.transform(df) "
   ]
  },
  {
   "cell_type": "code",
   "execution_count": 8,
   "metadata": {},
   "outputs": [
    {
     "name": "stderr",
     "output_type": "stream",
     "text": [
      "24/12/08 13:53:44 WARN SparkStringUtils: Truncated the string representation of a plan since it was too large. This behavior can be adjusted by setting 'spark.sql.debug.maxToStringFields'.\n",
      "24/12/08 13:53:44 WARN DAGScheduler: Broadcasting large task binary with size 135.3 MiB\n"
     ]
    },
    {
     "name": "stdout",
     "output_type": "stream",
     "text": [
      "+--------------------+--------------------+--------------------+--------------------+--------------------+--------------------+------------+-----------+--------+-------------------+------------------+---+-------------------+----+--------------------+--------------------+--------------------+-------------------+-------------------+------------------+-----------+--------------+----+------------+------------+--------------------+--------------------+-------+\n",
      "|                  id|                name|               album|            album_id|             artists|          artist_ids|track_number|disc_number|explicit|       danceability|            energy|key|           loudness|mode|         speechiness|        acousticness|    instrumentalness|           liveness|            valence|             tempo|duration_ms|time_signature|year|release_date|artist_index|       artist_vector|            features|cluster|\n",
      "+--------------------+--------------------+--------------------+--------------------+--------------------+--------------------+------------+-----------+--------+-------------------+------------------+---+-------------------+----+--------------------+--------------------+--------------------+-------------------+-------------------+------------------+-----------+--------------+----+------------+------------+--------------------+--------------------+-------+\n",
      "|7lmeHLHBe4nmXzuXc...|             Testify|The Battle Of Los...|2eia0myWFgoHuttJy...|['Rage Against Th...|['2d0hyoQ5ynDBnkv...|           1|          1|   False|               0.47|             0.978|  7|             -5.399|   1|              0.0727|              0.0261|            1.09e-05|0.35600000000000004|              0.503|           117.906|     210133|           4.0|1999|  1999-11-02|       724.0|(165253,[724],[1.0])|(165258,[0,1,2,3,...|     48|\n",
      "|1wsRitfRRtWyEapl0...|     Guerrilla Radio|The Battle Of Los...|2eia0myWFgoHuttJy...|['Rage Against Th...|['2d0hyoQ5ynDBnkv...|           2|          1|    True|              0.599|0.9570000000000001| 11| -5.763999999999999|   1|               0.188|              0.0129|            7.06e-05|              0.155|              0.489|            103.68|     206200|           4.0|1999|  1999-11-02|       724.0|(165253,[724],[1.0])|(165258,[0,1,2,3,...|     34|\n",
      "|1hR0fIFK2qRG3f3RF...|    Calm Like a Bomb|The Battle Of Los...|2eia0myWFgoHuttJy...|['Rage Against Th...|['2d0hyoQ5ynDBnkv...|           3|          1|   False|              0.315|              0.97|  7|-5.4239999999999995|   1|               0.483|              0.0234|            2.03e-06|              0.122|               0.37|           149.749|     298893|           4.0|1999|  1999-11-02|       724.0|(165253,[724],[1.0])|(165258,[0,1,2,3,...|     99|\n",
      "|2lbASgTSoDO7MTuLA...|           Mic Check|The Battle Of Los...|2eia0myWFgoHuttJy...|['Rage Against Th...|['2d0hyoQ5ynDBnkv...|           4|          1|    True|               0.44|0.9670000000000001| 11|              -5.83|   0|               0.237|               0.163|            3.64e-06|              0.121|              0.574| 96.75200000000001|     213640|           4.0|1999|  1999-11-02|       724.0|(165253,[724],[1.0])|(165258,[0,1,2,3,...|     22|\n",
      "|1MQTmpYOZ6fcMQc56...|Sleep Now In the ...|The Battle Of Los...|2eia0myWFgoHuttJy...|['Rage Against Th...|['2d0hyoQ5ynDBnkv...|           5|          1|   False|              0.426|             0.929|  2|             -6.729|   1|              0.0701|             0.00162|               0.105|             0.0789|              0.539|           127.059|     205600|           4.0|1999|  1999-11-02|       724.0|(165253,[724],[1.0])|(165258,[0,1,2,3,...|     40|\n",
      "|2LXPNLSMAauNJfnC5...|Born of a Broken Man|The Battle Of Los...|2eia0myWFgoHuttJy...|['Rage Against Th...|['2d0hyoQ5ynDBnkv...|           6|          1|   False|              0.298|             0.848|  2|             -5.947|   1|              0.0727|              0.0538|0.001519999999999...|              0.201|0.19399999999999998|           148.282|     280960|           4.0|1999|  1999-11-02|       724.0|(165253,[724],[1.0])|(165258,[0,1,2,3,...|     88|\n",
      "|3moeHk8eIajvUEzVo...|      Born As Ghosts|The Battle Of Los...|2eia0myWFgoHuttJy...|['Rage Against Th...|['2d0hyoQ5ynDBnkv...|           7|          1|   False|0.41700000000000004|             0.976|  9|             -6.032|   1|               0.175|0.000426999999999...|            0.000134|              0.107|              0.483|            90.395|     202040|           4.0|1999|  1999-11-02|       724.0|(165253,[724],[1.0])|(165258,[0,1,2,3,...|     53|\n",
      "|4llunZfVXv3NvUzXV...|               Maria|The Battle Of Los...|2eia0myWFgoHuttJy...|['Rage Against Th...|['2d0hyoQ5ynDBnkv...|           8|          1|   False|0.27699999999999997|             0.873| 11|-6.5710000000000015|   0|              0.0883|0.006940000000000001|5.400000000000001...|              0.188|              0.618|172.84799999999996|     228093|           4.0|1999|  1999-11-02|       724.0|(165253,[724],[1.0])|(165258,[0,1,2,3,...|     73|\n",
      "|21Mq0NzFoVRvOmLTO...|Voice of the Voic...|The Battle Of Los...|2eia0myWFgoHuttJy...|['Rage Against Th...|['2d0hyoQ5ynDBnkv...|           9|          1|   False|              0.441|             0.882|  7| -7.362999999999999|   1|0.044000000000000004|              0.0195|0.006840000000000001|               0.15|              0.418| 83.37100000000002|     151573|           4.0|1999|  1999-11-02|       724.0|(165253,[724],[1.0])|(165258,[0,1,2,3,...|     33|\n",
      "|6s2FgJbnnMwFTpWJZ...|New Millennium Homes|The Battle Of Los...|2eia0myWFgoHuttJy...|['Rage Against Th...|['2d0hyoQ5ynDBnkv...|          10|          1|   False|0.44799999999999995|             0.861|  9|              -6.12|   1|              0.0676|0.003060000000000...|                 0.0|             0.0987| 0.7609999999999999|            92.777|     224933|           4.0|1999|  1999-11-02|       724.0|(165253,[724],[1.0])|(165258,[0,1,2,3,...|     63|\n",
      "|7o2Razxnl33Jrgz4P...|   Ashes In the Fall|The Battle Of Los...|2eia0myWFgoHuttJy...|['Rage Against Th...|['2d0hyoQ5ynDBnkv...|          11|          1|    True|              0.456|0.7040000000000001|  7|             -6.687|   1|              0.0982|              0.0052|            4.12e-06|             0.0595| 0.6559999999999999|           140.629|     277267|           4.0|1999|  1999-11-02|       724.0|(165253,[724],[1.0])|(165258,[0,1,2,3,...|     17|\n",
      "|3Hxu3Ey1TV9mZ5XqM...| War Within a Breath|The Battle Of Los...|2eia0myWFgoHuttJy...|['Rage Against Th...|['2d0hyoQ5ynDBnkv...|          12|          1|   False|0.39899999999999997|             0.965|  6|             -5.901|   1| 0.14300000000000002|             0.00442|              0.0314| 0.3670000000000001|              0.174|            98.464|     216427|           4.0|1999|  1999-11-02|       724.0|(165253,[724],[1.0])|(165258,[0,1,2,3,...|     86|\n",
      "|6ZU9RJIZ0fNaFuQM5...|           Bombtrack|Rage Against The ...|4LaRYkT4oy47wEuQg...|['Rage Against Th...|['2d0hyoQ5ynDBnkv...|           1|          1|    True|              0.478|             0.855|  4|             -7.438|   0|               0.121|              0.0134|            3.18e-05|              0.179| 0.6679999999999999|            151.93|     243760|           4.0|1992|  1992-11-03|       724.0|(165253,[724],[1.0])|(165258,[0,1,2,3,...|     35|\n",
      "|3FUS56gKr9mVBmzvl...| Killing In the Name|Rage Against The ...|4LaRYkT4oy47wEuQg...|['Rage Against Th...|['2d0hyoQ5ynDBnkv...|           2|          1|    True|              0.457|             0.779|  7|-6.3229999999999995|   1|               0.257|              0.0185|            2.04e-06|             0.0247| 0.7340000000000001|            86.573|     313667|           4.0|1992|  1992-11-03|       724.0|(165253,[724],[1.0])|(165258,[0,1,2,3,...|     85|\n",
      "|3tTL7jlSkowXidYea...| Take the Power Back|Rage Against The ...|4LaRYkT4oy47wEuQg...|['Rage Against Th...|['2d0hyoQ5ynDBnkv...|           3|          1|    True|              0.542|0.8420000000000001|  1|-7.1370000000000005|   1| 0.17300000000000001|               0.043|            0.000153|0.17300000000000001|              0.301|           104.772|     335840|           4.0|1992|  1992-11-03|       724.0|(165253,[724],[1.0])|(165258,[0,1,2,3,...|     47|\n",
      "|2vuDdXqekkDCSdawJ...|  Settle for Nothing|Rage Against The ...|4LaRYkT4oy47wEuQg...|['Rage Against Th...|['2d0hyoQ5ynDBnkv...|           4|          1|   False|              0.516|0.5329999999999999|  7| -9.562999999999999|   1|              0.0429|              0.0253|            4.71e-05|              0.113|               0.29| 97.73200000000001|     287333|           4.0|1992|  1992-11-03|       724.0|(165253,[724],[1.0])|(165258,[0,1,2,3,...|     86|\n",
      "|11cxKUEgnVAlesUKt...|  Bullet In the Head|Rage Against The ...|4LaRYkT4oy47wEuQg...|['Rage Against Th...|['2d0hyoQ5ynDBnkv...|           5|          1|    True|              0.418|0.8059999999999999|  4|             -6.965|   1|               0.128|              0.0032|            0.000788|              0.623|              0.447|           164.202|     307067|           4.0|1992|  1992-11-03|       724.0|(165253,[724],[1.0])|(165258,[0,1,2,3,...|     23|\n",
      "|1IDAJagxB9AQjjYXa...|     Know Your Enemy|Rage Against The ...|4LaRYkT4oy47wEuQg...|['Rage Against Th...|['2d0hyoQ5ynDBnkv...|           6|          1|    True|              0.574|             0.765|  4|             -7.755|   1|               0.128|              0.0141|0.003779999999999...|              0.136|              0.613|117.63600000000001|     294693|           4.0|1992|  1992-11-03|       724.0|(165253,[724],[1.0])|(165258,[0,1,2,3,...|      8|\n",
      "|6zbHSDJjgrNdfIxPy...|             Wake Up|Rage Against The ...|4LaRYkT4oy47wEuQg...|['Rage Against Th...|['2d0hyoQ5ynDBnkv...|           7|          1|   False|0.41100000000000003|             0.823|  7|-7.5539999999999985|   1|               0.115|             0.00316|              0.0148|              0.149|              0.573|170.28099999999995|     364133|           4.0|1992|  1992-11-03|       724.0|(165253,[724],[1.0])|(165258,[0,1,2,3,...|     57|\n",
      "|3YEk8mVdMI7rxtfim...|    Fistful of Steel|Rage Against The ...|4LaRYkT4oy47wEuQg...|['Rage Against Th...|['2d0hyoQ5ynDBnkv...|           8|          1|   False|               0.52|             0.755|  4|             -9.031|   0|               0.134|              0.0195|                0.34|             0.0956|              0.608|           155.513|     331107|           4.0|1992|  1992-11-03|       724.0|(165253,[724],[1.0])|(165258,[0,1,2,3,...|      1|\n",
      "+--------------------+--------------------+--------------------+--------------------+--------------------+--------------------+------------+-----------+--------+-------------------+------------------+---+-------------------+----+--------------------+--------------------+--------------------+-------------------+-------------------+------------------+-----------+--------------+----+------------+------------+--------------------+--------------------+-------+\n",
      "only showing top 20 rows\n",
      "\n"
     ]
    }
   ],
   "source": [
    "df.show()"
   ]
  },
  {
   "cell_type": "code",
   "execution_count": 9,
   "metadata": {},
   "outputs": [
    {
     "name": "stderr",
     "output_type": "stream",
     "text": [
      "24/12/08 13:53:45 WARN DAGScheduler: Broadcasting large task binary with size 135.3 MiB\n",
      "24/12/08 13:53:47 WARN DAGScheduler: Broadcasting large task binary with size 135.3 MiB\n"
     ]
    },
    {
     "name": "stdout",
     "output_type": "stream",
     "text": [
      "\n",
      "Recommendations for Song ID 12Cbou8Hl4yGGuTZlkLl60:\n",
      "  Name: Man on a Mission, Artists: ['Daryl Hall & John Oates'], Danceability: 0.787, Energy: 0.903, Liveness: 0.10099999999999999, Valence: 0.9620000000000001, Tempo: 119.946\n",
      "  Name: strange, Artists: ['Tori Amos'], Danceability: 0.5329999999999999, Energy: 0.319, Liveness: 0.11800000000000001, Valence: 0.19699999999999998, Tempo: 119.475\n",
      "  Name: Waste of Mind, Artists: ['zebrahead'], Danceability: 0.602, Energy: 0.9109999999999999, Liveness: 0.0514, Valence: 0.848, Tempo: 120.178\n",
      "  Name: Wish I May, Artists: ['Ani DiFranco'], Danceability: 0.804, Energy: 0.47200000000000003, Liveness: 0.369, Valence: 0.5870000000000001, Tempo: 120.376\n",
      "  Name: Done Wrong, Artists: ['Ani DiFranco'], Danceability: 0.5589999999999999, Energy: 0.33899999999999997, Liveness: 0.27399999999999997, Valence: 0.0805, Tempo: 119.661\n"
     ]
    },
    {
     "name": "stderr",
     "output_type": "stream",
     "text": [
      "24/12/08 13:53:51 WARN GarbageCollectionMetrics: To enable non-built-in garbage collector(s) List(G1 Concurrent GC), users should configure it(them) to spark.eventLog.gcMetrics.youngGenerationGarbageCollectors or spark.eventLog.gcMetrics.oldGenerationGarbageCollectors\n"
     ]
    }
   ],
   "source": [
    "\n",
    "# Define the 5 given songs by their IDs\n",
    "given_song_ids = [\"12Cbou8Hl4yGGuTZlkLl60\"]\n",
    "\n",
    "# Get clusters for the given songs\n",
    "given_songs = df.filter(col(\"id\").isin(given_song_ids)).select(\"id\", \"cluster\")\n",
    "\n",
    "# Recommend songs from the same cluster for each given song\n",
    "recommendations = {}\n",
    "for row in given_songs.collect():\n",
    "    song_id = row[\"id\"]\n",
    "    cluster_id = row[\"cluster\"]\n",
    "    \n",
    "    # Get 5 songs from the same cluster, excluding the given song itself\n",
    "    similar_songs = df.filter((col(\"cluster\") == cluster_id) & (col(\"id\") != song_id)) \\\n",
    "                      .select(\"name\", \"artists\", \"danceability\", \"energy\", \"liveness\", \"valence\", \"tempo\") \\\n",
    "                      .limit(5)\n",
    "    \n",
    "    recommendations[song_id] = similar_songs.collect()\n",
    "\n",
    "# Display recommendations\n",
    "for song_id, recs in recommendations.items():\n",
    "    print(f\"\\nRecommendations for Song ID {song_id}:\")\n",
    "    for row in recs:\n",
    "        print(f\"  Name: {row['name']}, Artists: {row['artists']}, \"\n",
    "              f\"Danceability: {row['danceability']}, Energy: {row['energy']}, \"\n",
    "              f\"Liveness: {row['liveness']}, Valence: {row['valence']}, Tempo: {row['tempo']}\")"
   ]
  }
 ],
 "metadata": {
  "kernelspec": {
   "display_name": ".venv",
   "language": "python",
   "name": "python3"
  },
  "language_info": {
   "codemirror_mode": {
    "name": "ipython",
    "version": 3
   },
   "file_extension": ".py",
   "mimetype": "text/x-python",
   "name": "python",
   "nbconvert_exporter": "python",
   "pygments_lexer": "ipython3",
   "version": "3.12.7"
  }
 },
 "nbformat": 4,
 "nbformat_minor": 2
}
